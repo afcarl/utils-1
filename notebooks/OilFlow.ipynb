{
 "metadata": {
  "name": "",
  "signature": "sha256:992955ad0a7e0c3cf6803f6d131cd4f4fedbfc33ecca084557f16c86cb97ae2f"
 },
 "nbformat": 3,
 "nbformat_minor": 0,
 "worksheets": [
  {
   "cells": [
    {
     "cell_type": "markdown",
     "metadata": {},
     "source": [
      "## Get data\n",
      "Get oil flow data from Kevin Murphys dataset collection: http://pmtkdata.googlecode.com/svn/trunk/docs/dataTable.html"
     ]
    },
    {
     "cell_type": "code",
     "collapsed": false,
     "input": [
      "import scipy.io\n",
      "oil = scipy.io.loadmat(\"oilFlow3Class.mat\")\n",
      "print oil.keys()"
     ],
     "language": "python",
     "metadata": {},
     "outputs": []
    },
    {
     "cell_type": "code",
     "collapsed": false,
     "input": [
      "data = oil['DataTrn']\n",
      "trgts = np.argmax(oil['DataTrnLbls'], axis=1)\n",
      "valid = oil['DataVdn']\n",
      "vtrgts = oil['DataVdnLbls']"
     ],
     "language": "python",
     "metadata": {},
     "outputs": []
    },
    {
     "cell_type": "markdown",
     "metadata": {},
     "source": [
      "### Normalize\n",
      "Try out different approaches!"
     ]
    },
    {
     "cell_type": "code",
     "collapsed": false,
     "input": [
      "data = data - np.mean(data, axis=0)\n",
      "data = data/np.sum(data**2, axis=1)[:, np.newaxis]\n",
      "epochs = 15\n",
      "btsz = 20\n",
      "enc_out = 2\n",
      "lr = 0.01\n",
      "momentum = 0.9\n",
      "decay = 0.95\n",
      "batches = data.shape[0]/btsz\n",
      "print \"Variational AE\"\n",
      "print \"Epochs\", epochs\n",
      "print \"Batches per epoch\", batches\n",
      "print\n",
      "\n",
      "# specify encoder\n",
      "enc = {\n",
      "    'tag': 'enc',\n",
      "    'type': crino.mlp,\n",
      "    'shapes': [(12, 50), (50, 2*enc_out)],\n",
      "    'activs': [T.tanh, crino.idty],\n",
      "    'init': \"normal\",\n",
      "}\n",
      "\n",
      "# specify cost for variational approx.\n",
      "kl_cost = {\n",
      "    'type': crino.kl_dg_g,\n",
      "}\n",
      "\n",
      "# specify decoder\n",
      "dec = {\n",
      "    'tag': 'dec',\n",
      "    'type': crino.mlp,\n",
      "    'shapes': [(enc_out, 30), (30, 12)],\n",
      "    'activs': [T.tanh, crino.idty],\n",
      "    'init': \"normal\",\n",
      "}\n",
      "\n",
      "# specify generative cost\n",
      "cost = {\n",
      "    'type': crino.g_nll,\n",
      "    'scale': 1.\n",
      "}\n",
      "\n",
      "# finale model\n",
      "vae = {\n",
      "    'encoder': enc,\n",
      "    'decoder': dec,\n",
      "    'kl': kl_cost,\n",
      "    'cost': cost\n",
      "}\n",
      "\n",
      "# tie first layer of encoder with last layer of decoder\n",
      "tied = None\n",
      "\n",
      "cost, params, ims = crino.vae(config=vae, special=None, tied=tied)\n",
      "grads = T.grad(cost, params)\n",
      "\n",
      "settings = {\"lr\": lr, \"momentum\": momentum, \"decay\": decay}\n",
      "updates = momntm(params, grads, settings)\n",
      "#updates = crino.adadelta(params, grads, settings)\n",
      "train = theano.function([ims['inpt'][0]], cost, \n",
      "                        updates=updates, allow_input_downcast=True)\n",
      "sz = data.shape[0]\n",
      "for epoch in xrange(epochs):\n",
      "    cost = 0\n",
      "    for mbi in xrange(batches):\n",
      "        cost += btsz*train(data[mbi*btsz:(mbi+1)*btsz])\n",
      "    print epoch, cost/sz\n",
      "print ims.keys()\n",
      "embedder = theano.function([ims['inpt'][0]], ims['_kl_dg_g_mu'], allow_input_downcast=True)\n",
      "embs = embedder(data)\n",
      "import matplotlib.cm as cm\n",
      "colors = cm.rainbow(np.linspace(0, 1, 10))\n",
      "\n",
      "fig, ax = plt.subplots(1)\n",
      "for cls in xrange(3):\n",
      "    idx = trgts==cls\n",
      "    scatter(embs[idx,0], embs[idx,1], \n",
      "            c=colors[cls], label=str(cls), lw=0, alpha=0.3, marker='.')\n",
      "\n",
      "spines_to_remove = ['top', 'right']\n",
      "for spine in spines_to_remove:\n",
      "    ax.spines[spine].set_visible(False)\n",
      "\n",
      "spines_to_keep = ['bottom', 'left']\n",
      "for spine in spines_to_keep:\n",
      "    ax.spines[spine].set_linewidth(0.5)\n",
      "\n",
      "ax.xaxis.set_ticks_position('none')\n",
      "ax.yaxis.set_ticks_position('none')\n",
      "ax.legend(bbox_to_anchor=(1.05, 1), framealpha=0.2, loc=2)"
     ],
     "language": "python",
     "metadata": {},
     "outputs": []
    }
   ],
   "metadata": {}
  }
 ]
}