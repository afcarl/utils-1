{
 "metadata": {
  "name": "",
  "signature": "sha256:5873a579a2e841fd11baf395da3e6ca6ade115997099a7f72fbb3f0688a9dfb6"
 },
 "nbformat": 3,
 "nbformat_minor": 0,
 "worksheets": [
  {
   "cells": [
    {
     "cell_type": "markdown",
     "metadata": {},
     "source": [
      "## MNIST\n",
      "Utilizes code from crino module. Run notebook with --pylab switch."
     ]
    },
    {
     "cell_type": "code",
     "collapsed": false,
     "input": [
      "import numpy as np\n",
      "import theano\n",
      "import theano.tensor as T\n",
      "import gzip, cPickle\n",
      "from matplotlib import cm\n",
      "import matplotlib.pyplot as plt"
     ],
     "language": "python",
     "metadata": {},
     "outputs": [],
     "prompt_number": 2
    },
    {
     "cell_type": "code",
     "collapsed": false,
     "input": [
      "from osdfutils import crino\n",
      "from osdfutils import misc"
     ],
     "language": "python",
     "metadata": {},
     "outputs": [],
     "prompt_number": 3
    },
    {
     "cell_type": "code",
     "collapsed": false,
     "input": [
      "# needs local mnist.pkl.gz\n",
      "mnist_f = gzip.open(\"mnist.pkl.gz\",'rb')                              \n",
      "train_set, valid_set, test_set = cPickle.load(mnist_f)                \n",
      "data = train_set[0]\n",
      "trgts = train_set[1]\n",
      "valid = valid_set[0]\n",
      "mnist_f.close()"
     ],
     "language": "python",
     "metadata": {},
     "outputs": [],
     "prompt_number": 4
    },
    {
     "cell_type": "code",
     "collapsed": false,
     "input": [
      "%load_ext autoreload\n",
      "%autoreload 2\n",
      "reload(crino)"
     ],
     "language": "python",
     "metadata": {},
     "outputs": [
      {
       "output_type": "stream",
       "stream": "stdout",
       "text": [
        "The autoreload extension is already loaded. To reload it, use:\n",
        "  %reload_ext autoreload\n"
       ]
      },
      {
       "metadata": {},
       "output_type": "pyout",
       "prompt_number": 23,
       "text": [
        "<module 'osdfutils.crino' from '/home/osendorf/proj/utils/osdfutils/crino.pyc'>"
       ]
      }
     ],
     "prompt_number": 23
    },
    {
     "cell_type": "code",
     "collapsed": false,
     "input": [
      "epochs = 5\n",
      "btsz = 100\n",
      "enc_out = 2\n",
      "lr = 0.001\n",
      "momentum = 0.9\n",
      "decay = 0.95\n",
      "batches = data.shape[0]/btsz\n",
      "print \"LISTA -- Learned ISTA without ISTA\"\n",
      "print \"Epochs\", epochs\n",
      "print \"Batches per epoch\", batches\n",
      "print\n",
      "\n",
      "Dinit = {\"shape\": (512, 28*28), \"variant\": \"normal\", \"std\": 0.1}\n",
      "lmbd = 0.1 # sparsity weight\n",
      "L = 1.\n",
      "layers = 2\n",
      "config = {\"D\": Dinit, \"layers\": layers, \"L\": L, \"lambda\": lmbd}\n",
      "\n",
      "x, params, cost, rec, z = crino.lista(config=config, shrinkage=crino.sh)\n",
      "grads = T.grad(cost, params)\n",
      "\n",
      "settings = {\"lr\": lr, \"momentum\": momentum, \"decay\": decay}\n",
      "updates = crino.momntm(params, grads, settings)\n",
      "train = theano.function([x], cost, updates=updates, \n",
      "                        allow_input_downcast=True)\n",
      "print 'done.'"
     ],
     "language": "python",
     "metadata": {},
     "outputs": [
      {
       "output_type": "stream",
       "stream": "stdout",
       "text": [
        "LISTA -- Learned ISTA without ISTA\n",
        "Epochs 5\n",
        "Batches per epoch 500\n",
        "\n",
        "[MOMNTM] lr: 0.001; momentum: 0.9"
       ]
      },
      {
       "output_type": "stream",
       "stream": "stdout",
       "text": [
        "\n",
        "done."
       ]
      },
      {
       "output_type": "stream",
       "stream": "stdout",
       "text": [
        "\n"
       ]
      }
     ],
     "prompt_number": 24
    },
    {
     "cell_type": "code",
     "collapsed": false,
     "input": [
      "sz = data.shape[0]\n",
      "for epoch in xrange(epochs):\n",
      "    cost = 0\n",
      "    for mbi in xrange(batches):\n",
      "        cost += btsz*train(data[mbi*btsz:(mbi+1)*btsz])\n",
      "    print epoch, cost/sz"
     ],
     "language": "python",
     "metadata": {},
     "outputs": [
      {
       "output_type": "stream",
       "stream": "stdout",
       "text": [
        "0 18.8413870332\n",
        "1"
       ]
      },
      {
       "output_type": "stream",
       "stream": "stdout",
       "text": [
        " 10.48480467\n",
        "2"
       ]
      },
      {
       "output_type": "stream",
       "stream": "stdout",
       "text": [
        " 8.67396469712\n",
        "3"
       ]
      },
      {
       "output_type": "stream",
       "stream": "stdout",
       "text": [
        " 7.73600120864\n",
        "4"
       ]
      },
      {
       "output_type": "stream",
       "stream": "stdout",
       "text": [
        " 6.41485131122\n"
       ]
      }
     ],
     "prompt_number": 25
    },
    {
     "cell_type": "code",
     "collapsed": false,
     "input": [
      "im = np.array(misc.visualize(params[0].get_value(), 28*28))\n",
      "plt.imshow(im, cmap=cm.gray)\n",
      "plt.show()"
     ],
     "language": "python",
     "metadata": {},
     "outputs": [],
     "prompt_number": 27
    },
    {
     "cell_type": "code",
     "collapsed": false,
     "input": [
      "# show me the money\n",
      "reconstructor = theano.function([x], rec, allow_input_downcast=True)\n",
      "recs = reconstructor(valid[:14*14])\n",
      "im = np.array(misc.visualize(recs, 28*28))\n",
      "plt.imshow(im, cmap=cm.gray)\n",
      "plt.show()"
     ],
     "language": "python",
     "metadata": {},
     "outputs": [],
     "prompt_number": 30
    },
    {
     "cell_type": "code",
     "collapsed": false,
     "input": [],
     "language": "python",
     "metadata": {},
     "outputs": []
    }
   ],
   "metadata": {}
  }
 ]
}