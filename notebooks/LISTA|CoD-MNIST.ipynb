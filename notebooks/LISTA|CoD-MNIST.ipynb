{
 "metadata": {
  "name": "",
  "signature": "sha256:89116a0a3fc5759a850b092bb26568b54c7a7d2958eef60055009e06e633066e"
 },
 "nbformat": 3,
 "nbformat_minor": 0,
 "worksheets": [
  {
   "cells": [
    {
     "cell_type": "markdown",
     "metadata": {},
     "source": [
      "## LISTA\n",
      "Utilizes code from crino module. Run notebook with --pylab switch."
     ]
    },
    {
     "cell_type": "code",
     "collapsed": false,
     "input": [
      "import numpy as np\n",
      "import theano\n",
      "import theano.tensor as T\n",
      "import gzip, cPickle\n",
      "from matplotlib import cm\n",
      "import matplotlib.pyplot as plt\n",
      "import matplotlib"
     ],
     "language": "python",
     "metadata": {},
     "outputs": []
    },
    {
     "cell_type": "code",
     "collapsed": false,
     "input": [
      "from osdfutils import crino\n",
      "from osdfutils import misc"
     ],
     "language": "python",
     "metadata": {},
     "outputs": []
    },
    {
     "cell_type": "code",
     "collapsed": false,
     "input": [
      "# uncomment next two lines if inline plotting should be enabled.\n",
      "%matplotlib inline\n",
      "#matplotlib.rcParams['savefig.dpi'] = 144"
     ],
     "language": "python",
     "metadata": {},
     "outputs": []
    },
    {
     "cell_type": "code",
     "collapsed": false,
     "input": [
      "# needs local mnist.pkl.gz\n",
      "mnist_f = gzip.open(\"mnist.pkl.gz\",'rb')                              \n",
      "train_set, valid_set, test_set = cPickle.load(mnist_f)                \n",
      "data = train_set[0]\n",
      "dm = data.mean(axis=0)\n",
      "# normalize\n",
      "data = data - dm\n",
      "trgts = train_set[1]\n",
      "valid = (valid_set[0] - dm)\n",
      "mnist_f.close()"
     ],
     "language": "python",
     "metadata": {},
     "outputs": []
    },
    {
     "cell_type": "code",
     "collapsed": false,
     "input": [
      "%load_ext autoreload\n",
      "%autoreload 2\n",
      "reload(crino)"
     ],
     "language": "python",
     "metadata": {},
     "outputs": []
    },
    {
     "cell_type": "code",
     "collapsed": false,
     "input": [
      "epochs = 20\n",
      "btsz = 100\n",
      "lr = 1\n",
      "momentum = 0.9\n",
      "decay = 0.95\n",
      "batches = data.shape[0]/btsz\n",
      "print \"LISTA -- Learned ISTA without ISTA\"\n",
      "print \"Epochs\", epochs\n",
      "print \"Batches per epoch\", batches\n",
      "print\n",
      "\n",
      "sparse_shape=14*14\n",
      "Dinit = {\"shape\": (sparse_shape, 28*28), \"variant\": \"normal\", \"std\": 0.1}\n",
      "\n",
      "lmbd = 1 # sparsity weight\n",
      "L = 1.\n",
      "layers = 10\n",
      "config = {\"D\": Dinit, \"layers\": layers, \"L\": L, \"lambda\": lmbd}\n",
      "# normalize weights according to this config\n",
      "norm_dic = {\"D\": {\"axis\":1, \"c\": 1.}}\n",
      "# threshold theta should be at least some value\n",
      "thresh_dic = {\"theta\": {\"thresh\": 1e-2}}\n",
      "\n",
      "x, params, cost, rec, z = crino.lista(config=config, shrinkage=crino.sh)\n",
      "grads = T.grad(cost, params)\n",
      "\n",
      "# training ...\n",
      "settings = {\"lr\": lr, \"momentum\": momentum, \"decay\": decay}\n",
      "# ... with stochastic gradient + momentum\n",
      "#updates = crino.momntm(params, grads, settings)#, **norm_dic)\n",
      "updates = crino.adadelta(params, grads, settings)#, **norm_dic)\n",
      "# ... normalize weights\n",
      "updates = crino.norm_updt(params, updates, todo=norm_dic)\n",
      "# ... make sure threshold is big enough\n",
      "updates = crino.max_updt(params, updates, todo=thresh_dic)\n",
      "\n",
      "train = theano.function([x], cost, updates=updates, \n",
      "                        allow_input_downcast=True)\n",
      "print 'done.'"
     ],
     "language": "python",
     "metadata": {},
     "outputs": []
    },
    {
     "cell_type": "code",
     "collapsed": false,
     "input": [
      "# Rerun this cell if another full number of epochs should be trained.\n",
      "sz = data.shape[0]\n",
      "for epoch in xrange(epochs):\n",
      "    cost = 0\n",
      "    for mbi in xrange(batches):\n",
      "        cost += btsz*train(data[mbi*btsz:(mbi+1)*btsz])\n",
      "    print epoch, cost/sz"
     ],
     "language": "python",
     "metadata": {},
     "outputs": []
    },
    {
     "cell_type": "code",
     "collapsed": false,
     "input": [
      "im = np.array(misc.visualize(params[0].get_value(), 28*28))\n",
      "plt.imshow(im, cmap=cm.gray)\n",
      "import Image as img\n",
      "img.fromarray(im).save('D.png')"
     ],
     "language": "python",
     "metadata": {},
     "outputs": []
    },
    {
     "cell_type": "code",
     "collapsed": false,
     "input": [
      "# show me the money\n",
      "reconstructor = theano.function([x], rec, allow_input_downcast=True)\n",
      "recs = (reconstructor(valid[:14*14])*dstd)+dm\n",
      "im = np.array(misc.visualize(recs, 28*28))\n",
      "plt.imshow(im, cmap=cm.gray)"
     ],
     "language": "python",
     "metadata": {},
     "outputs": []
    },
    {
     "cell_type": "code",
     "collapsed": false,
     "input": [
      "# visualize latents as sparse 2d images\n",
      "sparse = theano.function([x], z, allow_input_downcast=True)\n",
      "sp = sparse(valid[:14*14])\n",
      "im = np.array(misc.visualize(sp, sparse_shape))\n",
      "plt.imshow(im, cmap=cm.gray)"
     ],
     "language": "python",
     "metadata": {},
     "outputs": []
    },
    {
     "cell_type": "code",
     "collapsed": false,
     "input": [
      "# if sparse code size is not a square number, use matshow\n",
      "plt.matshow(sp)\n",
      "# for gray values\n",
      "plt.matshow(sp, cmap=cm.gray)"
     ],
     "language": "python",
     "metadata": {},
     "outputs": []
    },
    {
     "cell_type": "code",
     "collapsed": false,
     "input": [
      "plt.hist(sp.ravel(), bins=100, normed=True)"
     ],
     "language": "python",
     "metadata": {},
     "outputs": []
    },
    {
     "cell_type": "markdown",
     "metadata": {},
     "source": [
      "## Learned CoD"
     ]
    },
    {
     "cell_type": "code",
     "collapsed": false,
     "input": [
      "reload(crino)\n",
      "epochs = 20\n",
      "btsz = 100\n",
      "lr = 1.\n",
      "momentum = 0.9\n",
      "decay = 0.95\n",
      "batches = data.shape[0]/btsz\n",
      "print \"LCoD -- Learned CoD without coordinate descent\"\n",
      "print \"Epochs\", epochs\n",
      "print \"Batches per epoch\", batches\n",
      "print\n",
      "\n",
      "sparse_shape=14*14\n",
      "Dinit = {\"shape\": (sparse_shape, 28*28), \"variant\": \"normal\", \"std\": 0.1}\n",
      "\n",
      "lmbd = 1 # sparsity weight\n",
      "L = 1.\n",
      "layers = 10\n",
      "config = {\"D\": Dinit, \"layers\": layers, \"L\": L, \"lambda\": lmbd}\n",
      "# normalize weights according to this config\n",
      "norm_dic = {\"D\": {\"axis\":1, \"c\": 1.}}\n",
      "# threshold theta should be at least some value\n",
      "thresh_dic = {\"theta\": {\"thresh\": 0.5}}\n",
      "\n",
      "x, params, cost, rec, z = crino.lcod(config=config, shrinkage=crino.sh)\n",
      "grads = T.grad(cost, params)\n",
      "\n",
      "# training ...\n",
      "settings = {\"lr\": lr, \"momentum\": momentum, \"decay\": decay}\n",
      "# ... with stochastic gradient + momentum\n",
      "#updates = crino.momntm(params, grads, settings)#, **norm_dic)\n",
      "updates = crino.adadelta(params, grads, settings)#, **norm_dic)\n",
      "# ... normalize weights\n",
      "updates = crino.norm_updt(params, updates, todo=norm_dic)\n",
      "# ... make sure threshold is big enough\n",
      "updates = crino.max_updt(params, updates, todo=thresh_dic)\n",
      "\n",
      "train = theano.function([x], cost, updates=updates, \n",
      "                        allow_input_downcast=True)\n",
      "print 'done.'"
     ],
     "language": "python",
     "metadata": {},
     "outputs": []
    },
    {
     "cell_type": "code",
     "collapsed": false,
     "input": [
      "# Rerun this cell if another full number of epochs should be trained.\n",
      "sz = data.shape[0]\n",
      "for epoch in xrange(epochs):\n",
      "    cost = 0\n",
      "    for mbi in xrange(batches):\n",
      "        cost += btsz*train(data[mbi*btsz:(mbi+1)*btsz])\n",
      "    print epoch, cost/sz"
     ],
     "language": "python",
     "metadata": {},
     "outputs": []
    },
    {
     "cell_type": "code",
     "collapsed": false,
     "input": [
      "im = np.array(misc.visualize(params[0].get_value(), 28*28))\n",
      "plt.imshow(im, cmap=cm.gray)\n",
      "import Image as img\n",
      "img.fromarray(im).save('D.png')"
     ],
     "language": "python",
     "metadata": {},
     "outputs": []
    },
    {
     "cell_type": "code",
     "collapsed": false,
     "input": [
      "reconstructor = theano.function([x], rec, allow_input_downcast=True)\n",
      "recs = reconstructor(valid[:14*14]) + dm\n",
      "im = np.array(misc.visualize(recs, 28*28))\n",
      "plt.imshow(im, cmap=cm.gray)"
     ],
     "language": "python",
     "metadata": {},
     "outputs": []
    },
    {
     "cell_type": "code",
     "collapsed": false,
     "input": [
      "%matplotlib inline\n",
      "# visualize latents as sparse 2d images\n",
      "sparse = theano.function([x], z, allow_input_downcast=True)\n",
      "sp = sparse(valid[:14*14])\n",
      "im = np.array(misc.visualize(sp, sparse_shape))\n",
      "plt.imshow(im, cmap=cm.gray)"
     ],
     "language": "python",
     "metadata": {},
     "outputs": []
    },
    {
     "cell_type": "code",
     "collapsed": false,
     "input": [
      "# if sparse code size is not a square number, use matshow\n",
      "plt.matshow(sp)\n",
      "# for gray values\n",
      "plt.matshow(sp, cmap=cm.gray)"
     ],
     "language": "python",
     "metadata": {},
     "outputs": []
    },
    {
     "cell_type": "code",
     "collapsed": false,
     "input": [
      "plt.hist(sp.ravel(), bins=100, normed=True)"
     ],
     "language": "python",
     "metadata": {},
     "outputs": []
    },
    {
     "cell_type": "markdown",
     "metadata": {},
     "source": [
      "##LConvISTA"
     ]
    },
    {
     "cell_type": "code",
     "collapsed": false,
     "input": [
      "reload(crino)\n",
      "epochs = 20\n",
      "btsz = 100\n",
      "lr = 1.\n",
      "momentum = 0.9\n",
      "decay = 0.95\n",
      "batches = data.shape[0]/btsz\n",
      "print \"LeConISTA -- Learned Convolutional ISTA\"\n",
      "print \"Epochs\", epochs\n",
      "print \"Batches per epoch\", batches\n",
      "print\n",
      "\n",
      "dx, dy = 28, 28\n",
      "lmbd = 1 # sparsity weight\n",
      "L = 1.\n",
      "layers = 10\n",
      "filters = 16\n",
      "filter_sz = 5\n",
      "theta = 0.001\n",
      "Dinit = {\"shape\": (filters, filter_sz**2), \"variant\": \"normal\", \"std\": 0.1, \"tensor\": (1, filters, filter_sz, filter_sz)}\n",
      "imshape = (btsz, 1, dx, dy)\n",
      "zshape = (btsz, filters, dx + filter_sz - 1, dy + filter_sz - 1)\n",
      "config = {\"btsz\": btsz, \"D\": Dinit, \"layers\": layers, \"L\": L, \"lambda\": lmbd, \"theta\": theta, \"imshape\": imshape, \"zshape\": zshape}\n",
      "# normalize weights according to this config\n",
      "norm_dic = {\"D\": {\"axis\":[2, 3], \"c\": 1.}}\n",
      "# threshold theta should be at least some value\n",
      "thresh_dic = {\"theta\": {\"thresh\": 1e-10}}\n",
      "\n",
      "x, params, z, rec, rec_err, cost, sparsity = crino.lconvista(config=config, shrinkage=crino.sh)\n",
      "grads = T.grad(cost, params)\n",
      "\n",
      "# training ...\n",
      "settings = {\"lr\": lr, \"momentum\": momentum, \"decay\": decay}\n",
      "# ... with stochastic gradient + momentum\n",
      "#updates = crino.momntm(params, grads, settings)#, **norm_dic)\n",
      "updates = crino.adadelta(params, grads, settings)#, **norm_dic)\n",
      "# ... normalize weights\n",
      "#updates = crino.norm_updt(params, updates, todo=norm_dic)\n",
      "updates[params[0]] = updates[params[0]] / T.sqrt(theano.map(lambda patch: (patch**2).sum(keepdims=True),updates[params[0]][0])[0])\n",
      "\n",
      "# ... make sure threshold is big enough\n",
      "updates = crino.max_updt(params, updates, todo=thresh_dic)\n",
      "\n",
      "train = theano.function([x], cost, updates=updates, \n",
      "                        allow_input_downcast=True)\n",
      "print 'done.'"
     ],
     "language": "python",
     "metadata": {},
     "outputs": []
    },
    {
     "cell_type": "markdown",
     "metadata": {},
     "source": [
      "### Experiment"
     ]
    },
    {
     "cell_type": "code",
     "collapsed": false,
     "input": [
      "reload(crino)\n",
      "epochs = 20\n",
      "btsz = 100\n",
      "lr = 1\n",
      "momentum = 0.1\n",
      "decay = 0.95\n",
      "batches = data.shape[0]/btsz\n",
      "print \"Epochs\", epochs\n",
      "print \"Batches per epoch\", batches\n",
      "print\n",
      "\n",
      "sparse_shape=14*14\n",
      "Dinit = {\"shape\": (sparse_shape, data.shape[1]), \"variant\": \"normal\", \"std\": 0.1}\n",
      "Qinit = {\"shape\": (sparse_shape, sparse_shape), \"variant\": \"normal\", \"std\": 0.1}\n",
      "lmbd = 1. # sparsity weight\n",
      "L = 1.\n",
      "layers = 10\n",
      "config = {\"D\": Dinit, \"layers\": layers, \"L\": L, \"lambda\": lmbd, \"Q\": Qinit}\n",
      "# normalize weights according to this config\n",
      "norm_dic = {\"D\": {\"axis\":1, \"c\": 1.}\n",
      "            ,\"Q\": {\"axis\":1, \"c\": 1.}\n",
      "            ,\"W\": {\"axis\":0, \"c\":1.}}\n",
      "# non-diagonals should be at most 0\n",
      "#thresh_dic = {\"Q\": {\"thresh\": 0}}\n",
      "\n",
      "x, params, cost, rec, z = crino.lode(config=config, activ=crino.relu, tied=True)\n",
      "grads = T.grad(cost, params)\n",
      "\n",
      "# training ...\n",
      "settings = {\"lr\": lr, \"momentum\": momentum, \"decay\": decay}\n",
      "# ... with stochastic gradient + momentum\n",
      "#updates = crino.momntm(params, grads, settings)#, **norm_dic)\n",
      "updates = crino.adadelta(params, grads, settings)#, **norm_dic)\n",
      "# ... normalize weights\n",
      "for p in params:\n",
      "    if p.name == \"Q\":\n",
      "        qupdt = updates[p]\n",
      "        qdiag = T.diag(qupdt)\n",
      "        qrest = qupdt - T.diag(qdiag)\n",
      "        #qdiag = T.maximum(0, qdiag)\n",
      "        qdiag = 0*T.diag(qdiag)\n",
      "        qrest = T.minimum(0, qrest)\n",
      "        updates[p] = qdiag + qrest\n",
      "\n",
      "updates = crino.norm_updt(params, updates, todo=norm_dic)\n",
      "# ... make sure threshold is big enough\n",
      "#updates = crino.min_updt(params, updates, todo=thresh_dic)\n",
      "\n",
      "train = theano.function([x], cost, updates=updates, \n",
      "                        allow_input_downcast=True)\n",
      "print 'done.'"
     ],
     "language": "python",
     "metadata": {},
     "outputs": []
    },
    {
     "cell_type": "code",
     "collapsed": false,
     "input": [
      "# Rerun this cell if another full number of epochs should be trained.\n",
      "sz = data.shape[0]\n",
      "for epoch in xrange(epochs):\n",
      "    cost = 0\n",
      "    for mbi in xrange(batches):\n",
      "        cost += btsz*train(data[mbi*btsz:(mbi+1)*btsz])\n",
      "    print epoch, cost/sz"
     ],
     "language": "python",
     "metadata": {},
     "outputs": []
    },
    {
     "cell_type": "code",
     "collapsed": false,
     "input": [
      "im = np.array(misc.visualize(params[0].get_value(), data.shape[1]))\n",
      "plt.imshow(im, cmap=cm.gray)\n",
      "import Image as img\n",
      "img.fromarray(im).save('D.png')"
     ],
     "language": "python",
     "metadata": {},
     "outputs": []
    },
    {
     "cell_type": "code",
     "collapsed": false,
     "input": [
      "reconstructor = theano.function([x], rec, allow_input_downcast=True)\n",
      "recs = reconstructor(data[:14*14])\n",
      "im = np.array(misc.visualize(recs, data.shape[1]))\n",
      "plt.imshow(im, cmap=cm.gray)"
     ],
     "language": "python",
     "metadata": {},
     "outputs": []
    },
    {
     "cell_type": "code",
     "collapsed": false,
     "input": [
      "im = np.array(misc.visualize(valid[:14*14]+dm, 28*28))\n",
      "plt.imshow(im, cmap=cm.gray)"
     ],
     "language": "python",
     "metadata": {},
     "outputs": []
    },
    {
     "cell_type": "code",
     "collapsed": false,
     "input": [
      "%matplotlib inline\n",
      "# visualize latents as sparse 2d images\n",
      "sparse = theano.function([x], z, allow_input_downcast=True)\n",
      "sp = sparse(valid[:14*14])\n",
      "im = np.array(misc.visualize(sp, sparse_shape))\n",
      "plt.imshow(im, cmap=cm.gray)"
     ],
     "language": "python",
     "metadata": {},
     "outputs": []
    },
    {
     "cell_type": "code",
     "collapsed": false,
     "input": [
      "# if sparse code size is not a square number, use matshow\n",
      "plt.matshow(sp)\n",
      "# for gray values\n",
      "plt.matshow(sp, cmap=cm.gray)"
     ],
     "language": "python",
     "metadata": {},
     "outputs": []
    },
    {
     "cell_type": "code",
     "collapsed": false,
     "input": [
      "plt.hist(sp.ravel(), bins=100, normed=True)"
     ],
     "language": "python",
     "metadata": {},
     "outputs": []
    },
    {
     "cell_type": "code",
     "collapsed": false,
     "input": [
      "params[1].get_value()"
     ],
     "language": "python",
     "metadata": {},
     "outputs": []
    },
    {
     "cell_type": "code",
     "collapsed": false,
     "input": [
      "im = np.array(misc.visualize(params[1].get_value(), 14*14))\n",
      "plt.imshow(im, cmap=cm.gray)\n",
      "import Image as img\n",
      "img.fromarray(im).save('Q.png')"
     ],
     "language": "python",
     "metadata": {},
     "outputs": []
    },
    {
     "cell_type": "code",
     "collapsed": false,
     "input": [
      "params[3].get_value()"
     ],
     "language": "python",
     "metadata": {},
     "outputs": []
    },
    {
     "cell_type": "code",
     "collapsed": false,
     "input": [
      "params[2].get_value()"
     ],
     "language": "python",
     "metadata": {},
     "outputs": []
    },
    {
     "cell_type": "code",
     "collapsed": false,
     "input": [
      "from cifar10 import dataset as ds\n",
      "data = ds.get_store(\"cifar10_gray_32x32.h5\")\n",
      "tmp = np.asarray(data['train']['inputs'], dtype=np.float)\n",
      "tmp = tmp - tmp.mean(axis=1, keepdims=True)\n",
      "tmp = tmp/(tmp.std(axis=1, keepdims=True) + 1e-6)"
     ],
     "language": "python",
     "metadata": {},
     "outputs": []
    },
    {
     "cell_type": "code",
     "collapsed": false,
     "input": [
      "im = np.array(misc.visualize(tmp[:100], 32**2))\n",
      "plt.imshow(im, cmap=cm.gray)"
     ],
     "language": "python",
     "metadata": {},
     "outputs": []
    },
    {
     "cell_type": "code",
     "collapsed": false,
     "input": [
      "data = tmp"
     ],
     "language": "python",
     "metadata": {},
     "outputs": []
    },
    {
     "cell_type": "code",
     "collapsed": false,
     "input": [
      "data.shape"
     ],
     "language": "python",
     "metadata": {},
     "outputs": []
    },
    {
     "cell_type": "code",
     "collapsed": false,
     "input": [
      "reload(crino)\n",
      "epochs = 10\n",
      "btsz = 100\n",
      "lr = 1\n",
      "momentum = 0.1\n",
      "decay = 0.95\n",
      "batches = data.shape[0]/btsz\n",
      "print \"Epochs\", epochs\n",
      "print \"Batches per epoch\", batches\n",
      "print\n",
      "\n",
      "sparse_shape = 40\n",
      "Dinit = {\"shape\": (1, sparse_shape, 9, 9), \"variant\": \"normal\", \"std\": 0.1}\n",
      "Qinit = {\"shape\": (sparse_shape, sparse_shape, 1, 1), \"variant\": \"normal\", \"std\": 0.1}\n",
      "Winit = {\"shape\": (sparse_shape, 1, 9, 9), \"variant\": \"normal\", \"std\": 0.1}\n",
      "imshape = (btsz, 1, 28, 28)\n",
      "lmbd = 0.0001 # sparsity weight\n",
      "L = 1\n",
      "layers = 5\n",
      "config = {\"D\": Dinit, \"layers\": layers, \"L\": L, \"lambda\": lmbd, \"Q\": Qinit, \"W\": Winit,\n",
      "          \"imshape\": imshape}\n",
      "# normalize weights according to this config\n",
      "norm_dic = {\"D\": {\"axis\": (2,3), \"c\": 1.}\n",
      "            ,\"Q\": {\"axis\":(1, 2, 3), \"c\": 1.}\n",
      "            ,\"W\": {\"axis\": (2,3), \"c\":1.}}\n",
      "# non-diagonals should be at most 0\n",
      "#thresh_dic = {\"Q\": {\"thresh\": 0}}\n",
      "\n",
      "x, params, cost, rec, z = crino.lodeconv(config=config, activ=crino.relu, tied=False)\n",
      "grads = T.grad(cost, params)\n",
      "\n",
      "# training ...\n",
      "settings = {\"lr\": lr, \"momentum\": momentum, \"decay\": decay}\n",
      "# ... with stochastic gradient + momentum\n",
      "#updates = crino.momntm(params, grads, settings)#, **norm_dic)\n",
      "updates = crino.adadelta(params, grads, settings)#, **norm_dic)\n",
      "# ... normalize weights\n",
      "for p in params:\n",
      "    if p.name == \"Q\":\n",
      "        qupdt = updates[p]\n",
      "        qupdt = qupdt.flatten(ndim=1)\n",
      "        qdiag = T.diag(qupdt)\n",
      "        qrest = qupdt - T.diag(qdiag)\n",
      "        qdiag = T.diag(T.maximum(0.001, qdiag))\n",
      "        #qdiag = 0.*T.diag(qdiag)\n",
      "        qrest = T.minimum(-0.001, qrest)\n",
      "        qupdt = qdiag + qrest\n",
      "        qupdt = qupdt.reshape(updates[p].shape)\n",
      "        updates[p] = qupdt\n",
      "\n",
      "updates = crino.norm_updt(params, updates, todo=norm_dic)\n",
      "# ... make sure threshold is big enough\n",
      "#updates = crino.min_updt(params, updates, todo=thresh_dic)\n",
      "\n",
      "train = theano.function([x], cost, updates=updates, \n",
      "                        allow_input_downcast=True)\n",
      "print 'done.'"
     ],
     "language": "python",
     "metadata": {},
     "outputs": []
    },
    {
     "cell_type": "code",
     "collapsed": false,
     "input": [
      "# Rerun this cell if another full number of epochs should be trained.\n",
      "sz = data.shape[0]\n",
      "for epoch in xrange(epochs):\n",
      "    cost = 0\n",
      "    for mbi in xrange(batches):\n",
      "        cost += btsz*train(data[mbi*btsz:(mbi+1)*btsz].reshape(100, 1, 28, 28))\n",
      "    print epoch, cost/sz"
     ],
     "language": "python",
     "metadata": {},
     "outputs": []
    },
    {
     "cell_type": "code",
     "collapsed": false,
     "input": [
      "reconstructor = theano.function([x], rec, allow_input_downcast=True)\n",
      "recs = reconstructor(data[:10*10].reshape(100, 1, 28, 28))\n",
      "im = np.array(misc.visualize(recs, data.shape[1], fill=255))\n",
      "plt.imshow(im, cmap=cm.gray)"
     ],
     "language": "python",
     "metadata": {},
     "outputs": []
    },
    {
     "cell_type": "code",
     "collapsed": false,
     "input": [
      "((params[-1].get_value()))"
     ],
     "language": "python",
     "metadata": {},
     "outputs": []
    },
    {
     "cell_type": "code",
     "collapsed": false,
     "input": [
      "im = np.array(misc.visualize(params[2].get_value().reshape(40, 81), 81, fill=255))\n",
      "plt.imshow(im, cmap=cm.gray)\n",
      "import Image as img\n",
      "img.fromarray(im).save('D.png')"
     ],
     "language": "python",
     "metadata": {},
     "outputs": []
    },
    {
     "cell_type": "code",
     "collapsed": false,
     "input": [
      "params[1].get_value()"
     ],
     "language": "python",
     "metadata": {},
     "outputs": []
    },
    {
     "cell_type": "code",
     "collapsed": false,
     "input": [],
     "language": "python",
     "metadata": {},
     "outputs": []
    }
   ],
   "metadata": {}
  }
 ]
}